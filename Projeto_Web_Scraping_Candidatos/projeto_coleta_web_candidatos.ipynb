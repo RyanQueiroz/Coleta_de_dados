{
 "cells": [
  {
   "cell_type": "code",
   "execution_count": 2,
   "metadata": {},
   "outputs": [
    {
     "name": "stdout",
     "output_type": "stream",
     "text": [
      "Requirement already satisfied: beautifulsoup4 in c:\\users\\ryano\\appdata\\local\\programs\\python\\python310\\lib\\site-packages (4.11.1)\n",
      "Requirement already satisfied: soupsieve>1.2 in c:\\users\\ryano\\appdata\\local\\programs\\python\\python310\\lib\\site-packages (from beautifulsoup4) (2.3.2.post1)\n",
      "Requirement already satisfied: requests in c:\\users\\ryano\\appdata\\local\\programs\\python\\python310\\lib\\site-packages (2.28.1)\n",
      "Requirement already satisfied: urllib3<1.27,>=1.21.1 in c:\\users\\ryano\\appdata\\local\\programs\\python\\python310\\lib\\site-packages (from requests) (1.26.12)\n",
      "Requirement already satisfied: certifi>=2017.4.17 in c:\\users\\ryano\\appdata\\local\\programs\\python\\python310\\lib\\site-packages (from requests) (2022.9.24)\n",
      "Requirement already satisfied: charset-normalizer<3,>=2 in c:\\users\\ryano\\appdata\\local\\programs\\python\\python310\\lib\\site-packages (from requests) (2.1.1)\n",
      "Requirement already satisfied: idna<4,>=2.5 in c:\\users\\ryano\\appdata\\local\\programs\\python\\python310\\lib\\site-packages (from requests) (3.4)\n"
     ]
    },
    {
     "name": "stderr",
     "output_type": "stream",
     "text": [
      "ERROR: Invalid requirement: '#'\n"
     ]
    }
   ],
   "source": [
    "!pip install beautifulsoup4\n",
    "!pip install requests\n",
    "!pip install re # trabalhar com regex"
   ]
  },
  {
   "cell_type": "markdown",
   "metadata": {},
   "source": [
    "Para esse estudo vamos extrair informações dos candidatos  a prefeitos de 3 cidades.\n",
    "Captura será feita pelo site: \"https://politica.estadao.com.br/eleicoes/2020/candidatos\".\n",
    "\n",
    "Seguites informações serão coletadas:\n",
    "\n",
    "1. Nome do Candidato;\n",
    "2. Partido do Candidato;\n",
    "3. O Estado;\n",
    "4. A Cidade;\n",
    "5. O Endereço de link do candidato."
   ]
  },
  {
   "cell_type": "code",
   "execution_count": 3,
   "metadata": {},
   "outputs": [],
   "source": [
    "#importando as bibliotecas\n",
    "\n",
    "import requests\n",
    "from bs4 import BeautifulSoup\n",
    "import re"
   ]
  },
  {
   "cell_type": "code",
   "execution_count": 4,
   "metadata": {},
   "outputs": [],
   "source": [
    "# Criação da requisição ao link que contém as informações.\n",
    "\n",
    "# Criação da variavel e atribuição.\n",
    "r = requests.get(\"https://politica.estadao.com.br/eleicoes/2020/candidatos\")"
   ]
  },
  {
   "cell_type": "code",
   "execution_count": 8,
   "metadata": {},
   "outputs": [
    {
     "data": {
      "text/plain": [
       "<Response [200]>"
      ]
     },
     "execution_count": 8,
     "metadata": {},
     "output_type": "execute_result"
    }
   ],
   "source": [
    "# Visualizar o conteúdo do texto\n",
    "\n",
    "r#.text"
   ]
  },
  {
   "cell_type": "code",
   "execution_count": 6,
   "metadata": {},
   "outputs": [],
   "source": [
    "soup = BeautifulSoup(r.text, 'html.parser')"
   ]
  },
  {
   "cell_type": "code",
   "execution_count": 7,
   "metadata": {},
   "outputs": [
    {
     "data": {
      "text/plain": [
       "bs4.BeautifulSoup"
      ]
     },
     "execution_count": 7,
     "metadata": {},
     "output_type": "execute_result"
    }
   ],
   "source": [
    "type(soup)"
   ]
  },
  {
   "cell_type": "code",
   "execution_count": 9,
   "metadata": {},
   "outputs": [],
   "source": [
    "candidatos = soup.find_all(\"div\", attrs={\"class\": \"col-xs-12 -only\"})"
   ]
  },
  {
   "cell_type": "code",
   "execution_count": 10,
   "metadata": {},
   "outputs": [
    {
     "data": {
      "text/plain": [
       "[<div class=\"col-xs-12 -only\"> <a href=\"https://politica.estadao.com.br/eleicoes/2020/candidatos/sp/sao-paulo/prefeito/andrea-matarazzo,55\" title=\"andrea matarazzo\"> <div class=\"mold-cand\"> <div class=\"cand-mask\"> <img alt=\"andrea matarazzo\" class=\"elazy\" data-src=\"https://img.estadao.com.br/fotos/politica/eleicoes-2020/SP/FSP250000661535_div.jpg\" onerror=\"this.onerror=null;this.src='https://statics.estadao.com.br/s2016/portal/eleicoes2020/img/img_placeholder.png';\"/> </div> <div class=\"cand-desc\"> <h3 class=\"cand-name\">andrea matarazzo</h3> <span class=\"cand-partido\">PSD</span> </div> </div> </a> </div>,\n",
       " <div class=\"col-xs-12 -only\"> <a href=\"https://politica.estadao.com.br/eleicoes/2020/candidatos/sp/sao-paulo/prefeito/antonio-carlos,29\" title=\"antônio carlos\"> <div class=\"mold-cand\"> <div class=\"cand-mask\"> <img alt=\"antônio carlos\" class=\"elazy\" data-src=\"https://img.estadao.com.br/fotos/politica/eleicoes-2020/SP/FSP250001172314_div.jpg\" onerror=\"this.onerror=null;this.src='https://statics.estadao.com.br/s2016/portal/eleicoes2020/img/img_placeholder.png';\"/> </div> <div class=\"cand-desc\"> <h3 class=\"cand-name\">antônio carlos</h3> <span class=\"cand-partido\">PCO</span> </div> </div> </a> </div>,\n",
       " <div class=\"col-xs-12 -only\"> <a href=\"https://politica.estadao.com.br/eleicoes/2020/candidatos/sp/sao-paulo/prefeito/arthur-do-val-mamae-falei,51\" title=\"arthur do val mamãe falei\"> <div class=\"mold-cand\"> <div class=\"cand-mask\"> <img alt=\"arthur do val mamãe falei\" class=\"elazy\" data-src=\"https://img.estadao.com.br/fotos/politica/eleicoes-2020/SP/FSP250000641390_div.jpg\" onerror=\"this.onerror=null;this.src='https://statics.estadao.com.br/s2016/portal/eleicoes2020/img/img_placeholder.png';\"/> </div> <div class=\"cand-desc\"> <h3 class=\"cand-name\">arthur do val mamãe falei</h3> <span class=\"cand-partido\">PATRIOTA</span> </div> </div> </a> </div>]"
      ]
     },
     "execution_count": 10,
     "metadata": {},
     "output_type": "execute_result"
    }
   ],
   "source": [
    "candidatos[:3]"
   ]
  },
  {
   "cell_type": "code",
   "execution_count": 12,
   "metadata": {},
   "outputs": [
    {
     "name": "stdout",
     "output_type": "stream",
     "text": [
      "Extração do nome candidato utilizando a TAG \"img\" antônio carlos\n",
      "Extração do nome candidatos utilizando a TAG \"a\" antônio carlos\n"
     ]
    }
   ],
   "source": [
    "# Extração do nome candidato utilizando a tag \"img\"\n",
    "nome_candidato = candidatos[1].img[\"alt\"] # Traz o primeiro elemento da lista\n",
    "# Extração do nome candidatos utilizando a TAG \"a\"\n",
    "nome_candidato2 = candidatos[1].a[\"title\"]\n",
    "print('Extração do nome candidato utilizando a TAG \"img\"',nome_candidato)\n",
    "print('Extração do nome candidatos utilizando a TAG \"a\"', nome_candidato2)"
   ]
  },
  {
   "cell_type": "code",
   "execution_count": 13,
   "metadata": {},
   "outputs": [
    {
     "name": "stdout",
     "output_type": "stream",
     "text": [
      "PCO\n"
     ]
    }
   ],
   "source": [
    "# Buscando partido do candidato\n",
    "partido = candidatos[1].span.text\n",
    "print(partido)"
   ]
  },
  {
   "cell_type": "markdown",
   "metadata": {},
   "source": [
    "A informação de estadp e cidade está dentro da TAG \"a\". A TAG \"a\" é um link de acesso, então vamos utilizar expressão regular para coletar essa informação pelo link"
   ]
  },
  {
   "cell_type": "code",
   "execution_count": 14,
   "metadata": {},
   "outputs": [],
   "source": [
    "import re"
   ]
  },
  {
   "cell_type": "code",
   "execution_count": 15,
   "metadata": {},
   "outputs": [
    {
     "name": "stdout",
     "output_type": "stream",
     "text": [
      "https://politica.estadao.com.br/eleicoes/2020/candidatos/sp/sao-paulo/prefeito/antonio-carlos,29\n"
     ]
    }
   ],
   "source": [
    "print(candidatos[1].a['href'])"
   ]
  },
  {
   "cell_type": "code",
   "execution_count": 16,
   "metadata": {},
   "outputs": [
    {
     "name": "stdout",
     "output_type": "stream",
     "text": [
      "['https:', '', 'politica.estadao.com.br', 'eleicoes', '2020', 'candidatos', 'sp', 'sao-paulo', 'prefeito', 'antonio-carlos,29']\n"
     ]
    }
   ],
   "source": [
    "print(re.split('/', candidatos[1].a['href']))"
   ]
  },
  {
   "cell_type": "code",
   "execution_count": 19,
   "metadata": {},
   "outputs": [
    {
     "name": "stdout",
     "output_type": "stream",
     "text": [
      "Estado do Candidato: sp\n",
      "cidade do Candidato: sao-paulo\n"
     ]
    }
   ],
   "source": [
    "print(\"Estado do Candidato:\", re.split('/', candidatos[1].a['href'])[6])\n",
    "print(\"cidade do Candidato:\", re.split('/', candidatos[1].a['href'])[7])"
   ]
  },
  {
   "cell_type": "code",
   "execution_count": 21,
   "metadata": {},
   "outputs": [],
   "source": [
    "estado = re.split('/', candidatos[1].a['href'])[6]\n",
    "cidade = re.split('/', candidatos[1].a['href'])[7]\n",
    "link = candidatos[1].a[\"href\"]"
   ]
  },
  {
   "cell_type": "code",
   "execution_count": 22,
   "metadata": {},
   "outputs": [
    {
     "name": "stdout",
     "output_type": "stream",
     "text": [
      "sp sao-paulo https://politica.estadao.com.br/eleicoes/2020/candidatos/sp/sao-paulo/prefeito/antonio-carlos,29\n"
     ]
    }
   ],
   "source": [
    "print(estado, cidade, link)"
   ]
  },
  {
   "cell_type": "code",
   "execution_count": 44,
   "metadata": {},
   "outputs": [],
   "source": [
    "lista_candidatos = []\n",
    "# busca os nomes de todos os candidatos\n",
    "for candidato in candidatos:\n",
    "    dados_candidato = []\n",
    "    dados_candidato.append(candidato.img[\"alt\"]) # nome do candidato\n",
    "    dados_candidato.append(candidato.span.text) # Partido\n",
    "    dados_candidato.append(re.split('/', candidato.a['href'])[6]) # Estado\n",
    "    dados_candidato.append(re.split('/', candidato.a['href'])[7]) # Cidade\n",
    "    dados_candidato.append(candidato.a['href']) # link\n",
    "    lista_candidatos.append(dados_candidato)"
   ]
  },
  {
   "cell_type": "code",
   "execution_count": 26,
   "metadata": {},
   "outputs": [
    {
     "data": {
      "text/plain": [
       "[['andrea matarazzo',\n",
       "  'PSD',\n",
       "  'sp',\n",
       "  'sao-paulo',\n",
       "  'https://politica.estadao.com.br/eleicoes/2020/candidatos/sp/sao-paulo/prefeito/andrea-matarazzo,55'],\n",
       " ['antônio carlos',\n",
       "  'PCO',\n",
       "  'sp',\n",
       "  'sao-paulo',\n",
       "  'https://politica.estadao.com.br/eleicoes/2020/candidatos/sp/sao-paulo/prefeito/antonio-carlos,29']]"
      ]
     },
     "execution_count": 26,
     "metadata": {},
     "output_type": "execute_result"
    }
   ],
   "source": [
    "lista_candidatos[:2]"
   ]
  },
  {
   "cell_type": "code",
   "execution_count": 27,
   "metadata": {},
   "outputs": [],
   "source": [
    "import pandas as pd"
   ]
  },
  {
   "cell_type": "code",
   "execution_count": 29,
   "metadata": {},
   "outputs": [],
   "source": [
    "df_candidatos = pd.DataFrame(lista_candidatos, columns=['nome_candidato', 'partido', 'estado', 'cidade', 'link'])"
   ]
  },
  {
   "cell_type": "code",
   "execution_count": 31,
   "metadata": {},
   "outputs": [
    {
     "data": {
      "text/html": [
       "<div>\n",
       "<style scoped>\n",
       "    .dataframe tbody tr th:only-of-type {\n",
       "        vertical-align: middle;\n",
       "    }\n",
       "\n",
       "    .dataframe tbody tr th {\n",
       "        vertical-align: top;\n",
       "    }\n",
       "\n",
       "    .dataframe thead th {\n",
       "        text-align: right;\n",
       "    }\n",
       "</style>\n",
       "<table border=\"1\" class=\"dataframe\">\n",
       "  <thead>\n",
       "    <tr style=\"text-align: right;\">\n",
       "      <th></th>\n",
       "      <th>nome_candidato</th>\n",
       "      <th>partido</th>\n",
       "      <th>estado</th>\n",
       "      <th>cidade</th>\n",
       "      <th>link</th>\n",
       "    </tr>\n",
       "  </thead>\n",
       "  <tbody>\n",
       "    <tr>\n",
       "      <th>0</th>\n",
       "      <td>andrea matarazzo</td>\n",
       "      <td>PSD</td>\n",
       "      <td>sp</td>\n",
       "      <td>sao-paulo</td>\n",
       "      <td>https://politica.estadao.com.br/eleicoes/2020/...</td>\n",
       "    </tr>\n",
       "    <tr>\n",
       "      <th>1</th>\n",
       "      <td>antônio carlos</td>\n",
       "      <td>PCO</td>\n",
       "      <td>sp</td>\n",
       "      <td>sao-paulo</td>\n",
       "      <td>https://politica.estadao.com.br/eleicoes/2020/...</td>\n",
       "    </tr>\n",
       "    <tr>\n",
       "      <th>2</th>\n",
       "      <td>arthur do val mamãe falei</td>\n",
       "      <td>PATRIOTA</td>\n",
       "      <td>sp</td>\n",
       "      <td>sao-paulo</td>\n",
       "      <td>https://politica.estadao.com.br/eleicoes/2020/...</td>\n",
       "    </tr>\n",
       "    <tr>\n",
       "      <th>3</th>\n",
       "      <td>bruno covas</td>\n",
       "      <td>PSDB</td>\n",
       "      <td>sp</td>\n",
       "      <td>sao-paulo</td>\n",
       "      <td>https://politica.estadao.com.br/eleicoes/2020/...</td>\n",
       "    </tr>\n",
       "  </tbody>\n",
       "</table>\n",
       "</div>"
      ],
      "text/plain": [
       "              nome_candidato   partido estado     cidade  \\\n",
       "0           andrea matarazzo       PSD     sp  sao-paulo   \n",
       "1             antônio carlos       PCO     sp  sao-paulo   \n",
       "2  arthur do val mamãe falei  PATRIOTA     sp  sao-paulo   \n",
       "3                bruno covas      PSDB     sp  sao-paulo   \n",
       "\n",
       "                                                link  \n",
       "0  https://politica.estadao.com.br/eleicoes/2020/...  \n",
       "1  https://politica.estadao.com.br/eleicoes/2020/...  \n",
       "2  https://politica.estadao.com.br/eleicoes/2020/...  \n",
       "3  https://politica.estadao.com.br/eleicoes/2020/...  "
      ]
     },
     "execution_count": 31,
     "metadata": {},
     "output_type": "execute_result"
    }
   ],
   "source": [
    "df_candidatos[:4]"
   ]
  },
  {
   "cell_type": "markdown",
   "metadata": {},
   "source": [
    "### Explorando e tratando os dados coletados"
   ]
  },
  {
   "cell_type": "code",
   "execution_count": 32,
   "metadata": {},
   "outputs": [
    {
     "data": {
      "text/plain": [
       "mg    16\n",
       "sp    14\n",
       "rj    14\n",
       "Name: estado, dtype: int64"
      ]
     },
     "execution_count": 32,
     "metadata": {},
     "output_type": "execute_result"
    }
   ],
   "source": [
    "df_candidatos['estado'].value_counts()"
   ]
  },
  {
   "cell_type": "code",
   "execution_count": 33,
   "metadata": {},
   "outputs": [
    {
     "data": {
      "text/plain": [
       "belo-horizonte    16\n",
       "sao-paulo         14\n",
       "rio-de-janeiro    14\n",
       "Name: cidade, dtype: int64"
      ]
     },
     "execution_count": 33,
     "metadata": {},
     "output_type": "execute_result"
    }
   ],
   "source": [
    "df_candidatos['cidade'].value_counts()"
   ]
  },
  {
   "cell_type": "code",
   "execution_count": 34,
   "metadata": {},
   "outputs": [
    {
     "data": {
      "text/plain": [
       "PCO              3\n",
       "REPUBLICANOS     3\n",
       "PSOL             3\n",
       "PT               3\n",
       "PSTU             3\n",
       "PRTB             3\n",
       "NOVO             3\n",
       "PSD              2\n",
       "PMB              2\n",
       "PROS             2\n",
       "PC do B          2\n",
       "REDE             2\n",
       "PSL              2\n",
       "PSDB             2\n",
       "PATRIOTA         2\n",
       "PSB              1\n",
       "PDT              1\n",
       "DEM              1\n",
       "PSC              1\n",
       "MDB              1\n",
       "CIDADANIA        1\n",
       "SOLIDARIEDADE    1\n",
       "Name: partido, dtype: int64"
      ]
     },
     "execution_count": 34,
     "metadata": {},
     "output_type": "execute_result"
    }
   ],
   "source": [
    "df_candidatos['partido'].value_counts()"
   ]
  },
  {
   "cell_type": "markdown",
   "metadata": {},
   "source": [
    "### Realizando tratamento de texto"
   ]
  },
  {
   "cell_type": "code",
   "execution_count": 35,
   "metadata": {},
   "outputs": [
    {
     "data": {
      "text/html": [
       "<div>\n",
       "<style scoped>\n",
       "    .dataframe tbody tr th:only-of-type {\n",
       "        vertical-align: middle;\n",
       "    }\n",
       "\n",
       "    .dataframe tbody tr th {\n",
       "        vertical-align: top;\n",
       "    }\n",
       "\n",
       "    .dataframe thead th {\n",
       "        text-align: right;\n",
       "    }\n",
       "</style>\n",
       "<table border=\"1\" class=\"dataframe\">\n",
       "  <thead>\n",
       "    <tr style=\"text-align: right;\">\n",
       "      <th></th>\n",
       "      <th>nome_candidato</th>\n",
       "      <th>partido</th>\n",
       "      <th>estado</th>\n",
       "      <th>cidade</th>\n",
       "      <th>link</th>\n",
       "    </tr>\n",
       "  </thead>\n",
       "  <tbody>\n",
       "    <tr>\n",
       "      <th>0</th>\n",
       "      <td>andrea matarazzo</td>\n",
       "      <td>PSD</td>\n",
       "      <td>sp</td>\n",
       "      <td>sao-paulo</td>\n",
       "      <td>https://politica.estadao.com.br/eleicoes/2020/...</td>\n",
       "    </tr>\n",
       "    <tr>\n",
       "      <th>1</th>\n",
       "      <td>antônio carlos</td>\n",
       "      <td>PCO</td>\n",
       "      <td>sp</td>\n",
       "      <td>sao-paulo</td>\n",
       "      <td>https://politica.estadao.com.br/eleicoes/2020/...</td>\n",
       "    </tr>\n",
       "    <tr>\n",
       "      <th>2</th>\n",
       "      <td>arthur do val mamãe falei</td>\n",
       "      <td>PATRIOTA</td>\n",
       "      <td>sp</td>\n",
       "      <td>sao-paulo</td>\n",
       "      <td>https://politica.estadao.com.br/eleicoes/2020/...</td>\n",
       "    </tr>\n",
       "    <tr>\n",
       "      <th>3</th>\n",
       "      <td>bruno covas</td>\n",
       "      <td>PSDB</td>\n",
       "      <td>sp</td>\n",
       "      <td>sao-paulo</td>\n",
       "      <td>https://politica.estadao.com.br/eleicoes/2020/...</td>\n",
       "    </tr>\n",
       "    <tr>\n",
       "      <th>4</th>\n",
       "      <td>celso russomanno</td>\n",
       "      <td>REPUBLICANOS</td>\n",
       "      <td>sp</td>\n",
       "      <td>sao-paulo</td>\n",
       "      <td>https://politica.estadao.com.br/eleicoes/2020/...</td>\n",
       "    </tr>\n",
       "  </tbody>\n",
       "</table>\n",
       "</div>"
      ],
      "text/plain": [
       "              nome_candidato       partido estado     cidade  \\\n",
       "0           andrea matarazzo           PSD     sp  sao-paulo   \n",
       "1             antônio carlos           PCO     sp  sao-paulo   \n",
       "2  arthur do val mamãe falei      PATRIOTA     sp  sao-paulo   \n",
       "3                bruno covas          PSDB     sp  sao-paulo   \n",
       "4           celso russomanno  REPUBLICANOS     sp  sao-paulo   \n",
       "\n",
       "                                                link  \n",
       "0  https://politica.estadao.com.br/eleicoes/2020/...  \n",
       "1  https://politica.estadao.com.br/eleicoes/2020/...  \n",
       "2  https://politica.estadao.com.br/eleicoes/2020/...  \n",
       "3  https://politica.estadao.com.br/eleicoes/2020/...  \n",
       "4  https://politica.estadao.com.br/eleicoes/2020/...  "
      ]
     },
     "execution_count": 35,
     "metadata": {},
     "output_type": "execute_result"
    }
   ],
   "source": [
    "df_candidatos[:5]"
   ]
  },
  {
   "cell_type": "code",
   "execution_count": 36,
   "metadata": {},
   "outputs": [
    {
     "data": {
      "text/plain": [
       "0    SAO PAULO\n",
       "1    SAO PAULO\n",
       "Name: cidade, dtype: object"
      ]
     },
     "execution_count": 36,
     "metadata": {},
     "output_type": "execute_result"
    }
   ],
   "source": [
    "df_candidatos[:2].cidade.str.replace('-', ' ').str.upper()"
   ]
  },
  {
   "cell_type": "code",
   "execution_count": 37,
   "metadata": {},
   "outputs": [
    {
     "data": {
      "text/plain": [
       "0    SÃO PAULO\n",
       "1    SÃO PAULO\n",
       "Name: cidade, dtype: object"
      ]
     },
     "execution_count": 37,
     "metadata": {},
     "output_type": "execute_result"
    }
   ],
   "source": [
    "df_candidatos[:2].cidade.str.replace('-', ' ').str.upper().str.replace(\"SAO\", \"SÃO\")"
   ]
  },
  {
   "cell_type": "code",
   "execution_count": 38,
   "metadata": {},
   "outputs": [],
   "source": [
    "df_candidatos['cidade'] = df_candidatos.cidade.str.replace('-', ' ').str.upper().str.replace(\"SAO\", \"SÃO\")"
   ]
  },
  {
   "cell_type": "code",
   "execution_count": 40,
   "metadata": {},
   "outputs": [
    {
     "data": {
      "text/html": [
       "<div>\n",
       "<style scoped>\n",
       "    .dataframe tbody tr th:only-of-type {\n",
       "        vertical-align: middle;\n",
       "    }\n",
       "\n",
       "    .dataframe tbody tr th {\n",
       "        vertical-align: top;\n",
       "    }\n",
       "\n",
       "    .dataframe thead th {\n",
       "        text-align: right;\n",
       "    }\n",
       "</style>\n",
       "<table border=\"1\" class=\"dataframe\">\n",
       "  <thead>\n",
       "    <tr style=\"text-align: right;\">\n",
       "      <th></th>\n",
       "      <th>nome_candidato</th>\n",
       "      <th>partido</th>\n",
       "      <th>estado</th>\n",
       "      <th>cidade</th>\n",
       "      <th>link</th>\n",
       "    </tr>\n",
       "  </thead>\n",
       "  <tbody>\n",
       "    <tr>\n",
       "      <th>0</th>\n",
       "      <td>andrea matarazzo</td>\n",
       "      <td>PSD</td>\n",
       "      <td>sp</td>\n",
       "      <td>SÃO PAULO</td>\n",
       "      <td>https://politica.estadao.com.br/eleicoes/2020/...</td>\n",
       "    </tr>\n",
       "    <tr>\n",
       "      <th>1</th>\n",
       "      <td>antônio carlos</td>\n",
       "      <td>PCO</td>\n",
       "      <td>sp</td>\n",
       "      <td>SÃO PAULO</td>\n",
       "      <td>https://politica.estadao.com.br/eleicoes/2020/...</td>\n",
       "    </tr>\n",
       "    <tr>\n",
       "      <th>2</th>\n",
       "      <td>arthur do val mamãe falei</td>\n",
       "      <td>PATRIOTA</td>\n",
       "      <td>sp</td>\n",
       "      <td>SÃO PAULO</td>\n",
       "      <td>https://politica.estadao.com.br/eleicoes/2020/...</td>\n",
       "    </tr>\n",
       "  </tbody>\n",
       "</table>\n",
       "</div>"
      ],
      "text/plain": [
       "              nome_candidato   partido estado     cidade  \\\n",
       "0           andrea matarazzo       PSD     sp  SÃO PAULO   \n",
       "1             antônio carlos       PCO     sp  SÃO PAULO   \n",
       "2  arthur do val mamãe falei  PATRIOTA     sp  SÃO PAULO   \n",
       "\n",
       "                                                link  \n",
       "0  https://politica.estadao.com.br/eleicoes/2020/...  \n",
       "1  https://politica.estadao.com.br/eleicoes/2020/...  \n",
       "2  https://politica.estadao.com.br/eleicoes/2020/...  "
      ]
     },
     "execution_count": 40,
     "metadata": {},
     "output_type": "execute_result"
    }
   ],
   "source": [
    "df_candidatos[:3]"
   ]
  },
  {
   "cell_type": "code",
   "execution_count": 45,
   "metadata": {},
   "outputs": [
    {
     "data": {
      "text/html": [
       "<div>\n",
       "<style scoped>\n",
       "    .dataframe tbody tr th:only-of-type {\n",
       "        vertical-align: middle;\n",
       "    }\n",
       "\n",
       "    .dataframe tbody tr th {\n",
       "        vertical-align: top;\n",
       "    }\n",
       "\n",
       "    .dataframe thead th {\n",
       "        text-align: right;\n",
       "    }\n",
       "</style>\n",
       "<table border=\"1\" class=\"dataframe\">\n",
       "  <thead>\n",
       "    <tr style=\"text-align: right;\">\n",
       "      <th></th>\n",
       "      <th>nome_candidato</th>\n",
       "      <th>partido</th>\n",
       "      <th>estado</th>\n",
       "      <th>cidade</th>\n",
       "      <th>link</th>\n",
       "    </tr>\n",
       "  </thead>\n",
       "  <tbody>\n",
       "    <tr>\n",
       "      <th>0</th>\n",
       "      <td>ANDREA MATARAZZO</td>\n",
       "      <td>PSD</td>\n",
       "      <td>SP</td>\n",
       "      <td>SÃO PAULO</td>\n",
       "      <td>https://politica.estadao.com.br/eleicoes/2020/...</td>\n",
       "    </tr>\n",
       "    <tr>\n",
       "      <th>1</th>\n",
       "      <td>ANTÔNIO CARLOS</td>\n",
       "      <td>PCO</td>\n",
       "      <td>SP</td>\n",
       "      <td>SÃO PAULO</td>\n",
       "      <td>https://politica.estadao.com.br/eleicoes/2020/...</td>\n",
       "    </tr>\n",
       "    <tr>\n",
       "      <th>2</th>\n",
       "      <td>ARTHUR DO VAL MAMÃE FALEI</td>\n",
       "      <td>PATRIOTA</td>\n",
       "      <td>SP</td>\n",
       "      <td>SÃO PAULO</td>\n",
       "      <td>https://politica.estadao.com.br/eleicoes/2020/...</td>\n",
       "    </tr>\n",
       "  </tbody>\n",
       "</table>\n",
       "</div>"
      ],
      "text/plain": [
       "              nome_candidato   partido estado     cidade  \\\n",
       "0           ANDREA MATARAZZO       PSD     SP  SÃO PAULO   \n",
       "1             ANTÔNIO CARLOS       PCO     SP  SÃO PAULO   \n",
       "2  ARTHUR DO VAL MAMÃE FALEI  PATRIOTA     SP  SÃO PAULO   \n",
       "\n",
       "                                                link  \n",
       "0  https://politica.estadao.com.br/eleicoes/2020/...  \n",
       "1  https://politica.estadao.com.br/eleicoes/2020/...  \n",
       "2  https://politica.estadao.com.br/eleicoes/2020/...  "
      ]
     },
     "execution_count": 45,
     "metadata": {},
     "output_type": "execute_result"
    }
   ],
   "source": [
    "# Transformar os campos do nome do candidato e estado em maiúsculo\n",
    "\n",
    "df_candidatos.nome_candidato = df_candidatos.nome_candidato.str.upper()\n",
    "df_candidatos.estado = df_candidatos.estado.str.upper()\n",
    "\n",
    "# Visualizar Data Frame\n",
    "df_candidatos[:3]"
   ]
  },
  {
   "cell_type": "markdown",
   "metadata": {},
   "source": [
    "# Verificando coleta de dados"
   ]
  },
  {
   "cell_type": "code",
   "execution_count": 46,
   "metadata": {},
   "outputs": [
    {
     "data": {
      "text/html": [
       "<div>\n",
       "<style scoped>\n",
       "    .dataframe tbody tr th:only-of-type {\n",
       "        vertical-align: middle;\n",
       "    }\n",
       "\n",
       "    .dataframe tbody tr th {\n",
       "        vertical-align: top;\n",
       "    }\n",
       "\n",
       "    .dataframe thead th {\n",
       "        text-align: right;\n",
       "    }\n",
       "</style>\n",
       "<table border=\"1\" class=\"dataframe\">\n",
       "  <thead>\n",
       "    <tr style=\"text-align: right;\">\n",
       "      <th></th>\n",
       "      <th>nome_candidato</th>\n",
       "      <th>partido</th>\n",
       "      <th>estado</th>\n",
       "      <th>cidade</th>\n",
       "      <th>link</th>\n",
       "    </tr>\n",
       "  </thead>\n",
       "  <tbody>\n",
       "    <tr>\n",
       "      <th>0</th>\n",
       "      <td>ANDREA MATARAZZO</td>\n",
       "      <td>PSD</td>\n",
       "      <td>SP</td>\n",
       "      <td>SÃO PAULO</td>\n",
       "      <td>https://politica.estadao.com.br/eleicoes/2020/...</td>\n",
       "    </tr>\n",
       "    <tr>\n",
       "      <th>1</th>\n",
       "      <td>ANTÔNIO CARLOS</td>\n",
       "      <td>PCO</td>\n",
       "      <td>SP</td>\n",
       "      <td>SÃO PAULO</td>\n",
       "      <td>https://politica.estadao.com.br/eleicoes/2020/...</td>\n",
       "    </tr>\n",
       "    <tr>\n",
       "      <th>2</th>\n",
       "      <td>ARTHUR DO VAL MAMÃE FALEI</td>\n",
       "      <td>PATRIOTA</td>\n",
       "      <td>SP</td>\n",
       "      <td>SÃO PAULO</td>\n",
       "      <td>https://politica.estadao.com.br/eleicoes/2020/...</td>\n",
       "    </tr>\n",
       "    <tr>\n",
       "      <th>3</th>\n",
       "      <td>BRUNO COVAS</td>\n",
       "      <td>PSDB</td>\n",
       "      <td>SP</td>\n",
       "      <td>SÃO PAULO</td>\n",
       "      <td>https://politica.estadao.com.br/eleicoes/2020/...</td>\n",
       "    </tr>\n",
       "    <tr>\n",
       "      <th>4</th>\n",
       "      <td>CELSO RUSSOMANNO</td>\n",
       "      <td>REPUBLICANOS</td>\n",
       "      <td>SP</td>\n",
       "      <td>SÃO PAULO</td>\n",
       "      <td>https://politica.estadao.com.br/eleicoes/2020/...</td>\n",
       "    </tr>\n",
       "    <tr>\n",
       "      <th>5</th>\n",
       "      <td>GUILHERME BOULOS</td>\n",
       "      <td>PSOL</td>\n",
       "      <td>SP</td>\n",
       "      <td>SÃO PAULO</td>\n",
       "      <td>https://politica.estadao.com.br/eleicoes/2020/...</td>\n",
       "    </tr>\n",
       "    <tr>\n",
       "      <th>6</th>\n",
       "      <td>JILMAR TATTO</td>\n",
       "      <td>PT</td>\n",
       "      <td>SP</td>\n",
       "      <td>SÃO PAULO</td>\n",
       "      <td>https://politica.estadao.com.br/eleicoes/2020/...</td>\n",
       "    </tr>\n",
       "    <tr>\n",
       "      <th>7</th>\n",
       "      <td>JOICE HASSELMANN</td>\n",
       "      <td>PSL</td>\n",
       "      <td>SP</td>\n",
       "      <td>SÃO PAULO</td>\n",
       "      <td>https://politica.estadao.com.br/eleicoes/2020/...</td>\n",
       "    </tr>\n",
       "    <tr>\n",
       "      <th>8</th>\n",
       "      <td>LEVY FIDELIX</td>\n",
       "      <td>PRTB</td>\n",
       "      <td>SP</td>\n",
       "      <td>SÃO PAULO</td>\n",
       "      <td>https://politica.estadao.com.br/eleicoes/2020/...</td>\n",
       "    </tr>\n",
       "    <tr>\n",
       "      <th>9</th>\n",
       "      <td>MARINA HELOU</td>\n",
       "      <td>REDE</td>\n",
       "      <td>SP</td>\n",
       "      <td>SÃO PAULO</td>\n",
       "      <td>https://politica.estadao.com.br/eleicoes/2020/...</td>\n",
       "    </tr>\n",
       "    <tr>\n",
       "      <th>10</th>\n",
       "      <td>MÁRCIO FRANÇA</td>\n",
       "      <td>PSB</td>\n",
       "      <td>SP</td>\n",
       "      <td>SÃO PAULO</td>\n",
       "      <td>https://politica.estadao.com.br/eleicoes/2020/...</td>\n",
       "    </tr>\n",
       "    <tr>\n",
       "      <th>11</th>\n",
       "      <td>ORLANDO SILVA</td>\n",
       "      <td>PC do B</td>\n",
       "      <td>SP</td>\n",
       "      <td>SÃO PAULO</td>\n",
       "      <td>https://politica.estadao.com.br/eleicoes/2020/...</td>\n",
       "    </tr>\n",
       "    <tr>\n",
       "      <th>12</th>\n",
       "      <td>SABARÁ</td>\n",
       "      <td>NOVO</td>\n",
       "      <td>SP</td>\n",
       "      <td>SÃO PAULO</td>\n",
       "      <td>https://politica.estadao.com.br/eleicoes/2020/...</td>\n",
       "    </tr>\n",
       "    <tr>\n",
       "      <th>13</th>\n",
       "      <td>VERA</td>\n",
       "      <td>PSTU</td>\n",
       "      <td>SP</td>\n",
       "      <td>SÃO PAULO</td>\n",
       "      <td>https://politica.estadao.com.br/eleicoes/2020/...</td>\n",
       "    </tr>\n",
       "    <tr>\n",
       "      <th>14</th>\n",
       "      <td>BANDEIRA DE MELLO</td>\n",
       "      <td>REDE</td>\n",
       "      <td>RJ</td>\n",
       "      <td>RIO DE JANEIRO</td>\n",
       "      <td>https://politica.estadao.com.br/eleicoes/2020/...</td>\n",
       "    </tr>\n",
       "    <tr>\n",
       "      <th>15</th>\n",
       "      <td>BENEDITA DA SILVA</td>\n",
       "      <td>PT</td>\n",
       "      <td>RJ</td>\n",
       "      <td>RIO DE JANEIRO</td>\n",
       "      <td>https://politica.estadao.com.br/eleicoes/2020/...</td>\n",
       "    </tr>\n",
       "    <tr>\n",
       "      <th>16</th>\n",
       "      <td>CLARISSA GAROTINHO</td>\n",
       "      <td>PROS</td>\n",
       "      <td>RJ</td>\n",
       "      <td>RIO DE JANEIRO</td>\n",
       "      <td>https://politica.estadao.com.br/eleicoes/2020/...</td>\n",
       "    </tr>\n",
       "    <tr>\n",
       "      <th>17</th>\n",
       "      <td>CRIVELLA</td>\n",
       "      <td>REPUBLICANOS</td>\n",
       "      <td>RJ</td>\n",
       "      <td>RIO DE JANEIRO</td>\n",
       "      <td>https://politica.estadao.com.br/eleicoes/2020/...</td>\n",
       "    </tr>\n",
       "    <tr>\n",
       "      <th>18</th>\n",
       "      <td>CYRO GARCIA</td>\n",
       "      <td>PSTU</td>\n",
       "      <td>RJ</td>\n",
       "      <td>RIO DE JANEIRO</td>\n",
       "      <td>https://politica.estadao.com.br/eleicoes/2020/...</td>\n",
       "    </tr>\n",
       "    <tr>\n",
       "      <th>19</th>\n",
       "      <td>DELEGADA MARTHA ROCHA</td>\n",
       "      <td>PDT</td>\n",
       "      <td>RJ</td>\n",
       "      <td>RIO DE JANEIRO</td>\n",
       "      <td>https://politica.estadao.com.br/eleicoes/2020/...</td>\n",
       "    </tr>\n",
       "    <tr>\n",
       "      <th>20</th>\n",
       "      <td>EDUARDO PAES</td>\n",
       "      <td>DEM</td>\n",
       "      <td>RJ</td>\n",
       "      <td>RIO DE JANEIRO</td>\n",
       "      <td>https://politica.estadao.com.br/eleicoes/2020/...</td>\n",
       "    </tr>\n",
       "    <tr>\n",
       "      <th>21</th>\n",
       "      <td>FRED LUZ</td>\n",
       "      <td>NOVO</td>\n",
       "      <td>RJ</td>\n",
       "      <td>RIO DE JANEIRO</td>\n",
       "      <td>https://politica.estadao.com.br/eleicoes/2020/...</td>\n",
       "    </tr>\n",
       "    <tr>\n",
       "      <th>22</th>\n",
       "      <td>GLÓRIA HELOIZA</td>\n",
       "      <td>PSC</td>\n",
       "      <td>RJ</td>\n",
       "      <td>RIO DE JANEIRO</td>\n",
       "      <td>https://politica.estadao.com.br/eleicoes/2020/...</td>\n",
       "    </tr>\n",
       "    <tr>\n",
       "      <th>23</th>\n",
       "      <td>HENRIQUE SIMONARD</td>\n",
       "      <td>PCO</td>\n",
       "      <td>RJ</td>\n",
       "      <td>RIO DE JANEIRO</td>\n",
       "      <td>https://politica.estadao.com.br/eleicoes/2020/...</td>\n",
       "    </tr>\n",
       "    <tr>\n",
       "      <th>24</th>\n",
       "      <td>LUIZ LIMA</td>\n",
       "      <td>PSL</td>\n",
       "      <td>RJ</td>\n",
       "      <td>RIO DE JANEIRO</td>\n",
       "      <td>https://politica.estadao.com.br/eleicoes/2020/...</td>\n",
       "    </tr>\n",
       "    <tr>\n",
       "      <th>25</th>\n",
       "      <td>PAULO MESSINA</td>\n",
       "      <td>MDB</td>\n",
       "      <td>RJ</td>\n",
       "      <td>RIO DE JANEIRO</td>\n",
       "      <td>https://politica.estadao.com.br/eleicoes/2020/...</td>\n",
       "    </tr>\n",
       "    <tr>\n",
       "      <th>26</th>\n",
       "      <td>RENATA SOUZA</td>\n",
       "      <td>PSOL</td>\n",
       "      <td>RJ</td>\n",
       "      <td>RIO DE JANEIRO</td>\n",
       "      <td>https://politica.estadao.com.br/eleicoes/2020/...</td>\n",
       "    </tr>\n",
       "    <tr>\n",
       "      <th>27</th>\n",
       "      <td>SUÊD HAIDAR</td>\n",
       "      <td>PMB</td>\n",
       "      <td>RJ</td>\n",
       "      <td>RIO DE JANEIRO</td>\n",
       "      <td>https://politica.estadao.com.br/eleicoes/2020/...</td>\n",
       "    </tr>\n",
       "    <tr>\n",
       "      <th>28</th>\n",
       "      <td>BRUNO ENGLER</td>\n",
       "      <td>PRTB</td>\n",
       "      <td>MG</td>\n",
       "      <td>BELO HORIZONTE</td>\n",
       "      <td>https://politica.estadao.com.br/eleicoes/2020/...</td>\n",
       "    </tr>\n",
       "    <tr>\n",
       "      <th>29</th>\n",
       "      <td>BRUNO ENGLER</td>\n",
       "      <td>PRTB</td>\n",
       "      <td>MG</td>\n",
       "      <td>BELO HORIZONTE</td>\n",
       "      <td>https://politica.estadao.com.br/eleicoes/2020/...</td>\n",
       "    </tr>\n",
       "    <tr>\n",
       "      <th>30</th>\n",
       "      <td>CABO XAVIER</td>\n",
       "      <td>PMB</td>\n",
       "      <td>MG</td>\n",
       "      <td>BELO HORIZONTE</td>\n",
       "      <td>https://politica.estadao.com.br/eleicoes/2020/...</td>\n",
       "    </tr>\n",
       "    <tr>\n",
       "      <th>31</th>\n",
       "      <td>FABIANO CAZECA</td>\n",
       "      <td>PROS</td>\n",
       "      <td>MG</td>\n",
       "      <td>BELO HORIZONTE</td>\n",
       "      <td>https://politica.estadao.com.br/eleicoes/2020/...</td>\n",
       "    </tr>\n",
       "    <tr>\n",
       "      <th>32</th>\n",
       "      <td>JOÃO VITOR XAVIER</td>\n",
       "      <td>CIDADANIA</td>\n",
       "      <td>MG</td>\n",
       "      <td>BELO HORIZONTE</td>\n",
       "      <td>https://politica.estadao.com.br/eleicoes/2020/...</td>\n",
       "    </tr>\n",
       "    <tr>\n",
       "      <th>33</th>\n",
       "      <td>KALIL</td>\n",
       "      <td>PSD</td>\n",
       "      <td>MG</td>\n",
       "      <td>BELO HORIZONTE</td>\n",
       "      <td>https://politica.estadao.com.br/eleicoes/2020/...</td>\n",
       "    </tr>\n",
       "    <tr>\n",
       "      <th>34</th>\n",
       "      <td>LAFAYETTE ANDRADA</td>\n",
       "      <td>REPUBLICANOS</td>\n",
       "      <td>MG</td>\n",
       "      <td>BELO HORIZONTE</td>\n",
       "      <td>https://politica.estadao.com.br/eleicoes/2020/...</td>\n",
       "    </tr>\n",
       "    <tr>\n",
       "      <th>35</th>\n",
       "      <td>LUISA BARRETO</td>\n",
       "      <td>PSDB</td>\n",
       "      <td>MG</td>\n",
       "      <td>BELO HORIZONTE</td>\n",
       "      <td>https://politica.estadao.com.br/eleicoes/2020/...</td>\n",
       "    </tr>\n",
       "    <tr>\n",
       "      <th>36</th>\n",
       "      <td>MARCELO SOUZA E SILVA</td>\n",
       "      <td>PATRIOTA</td>\n",
       "      <td>MG</td>\n",
       "      <td>BELO HORIZONTE</td>\n",
       "      <td>https://politica.estadao.com.br/eleicoes/2020/...</td>\n",
       "    </tr>\n",
       "    <tr>\n",
       "      <th>37</th>\n",
       "      <td>MARILIA DOMINGUES</td>\n",
       "      <td>PCO</td>\n",
       "      <td>MG</td>\n",
       "      <td>BELO HORIZONTE</td>\n",
       "      <td>https://politica.estadao.com.br/eleicoes/2020/...</td>\n",
       "    </tr>\n",
       "    <tr>\n",
       "      <th>38</th>\n",
       "      <td>NILMÁRIO MIRANDA</td>\n",
       "      <td>PT</td>\n",
       "      <td>MG</td>\n",
       "      <td>BELO HORIZONTE</td>\n",
       "      <td>https://politica.estadao.com.br/eleicoes/2020/...</td>\n",
       "    </tr>\n",
       "    <tr>\n",
       "      <th>39</th>\n",
       "      <td>PROFESSOR WENDEL MESQUITA</td>\n",
       "      <td>SOLIDARIEDADE</td>\n",
       "      <td>MG</td>\n",
       "      <td>BELO HORIZONTE</td>\n",
       "      <td>https://politica.estadao.com.br/eleicoes/2020/...</td>\n",
       "    </tr>\n",
       "    <tr>\n",
       "      <th>40</th>\n",
       "      <td>RODRIGO PAIVA</td>\n",
       "      <td>NOVO</td>\n",
       "      <td>MG</td>\n",
       "      <td>BELO HORIZONTE</td>\n",
       "      <td>https://politica.estadao.com.br/eleicoes/2020/...</td>\n",
       "    </tr>\n",
       "    <tr>\n",
       "      <th>41</th>\n",
       "      <td>WADSON RIBEIRO</td>\n",
       "      <td>PC do B</td>\n",
       "      <td>MG</td>\n",
       "      <td>BELO HORIZONTE</td>\n",
       "      <td>https://politica.estadao.com.br/eleicoes/2020/...</td>\n",
       "    </tr>\n",
       "    <tr>\n",
       "      <th>42</th>\n",
       "      <td>WANDERSON ROCHA</td>\n",
       "      <td>PSTU</td>\n",
       "      <td>MG</td>\n",
       "      <td>BELO HORIZONTE</td>\n",
       "      <td>https://politica.estadao.com.br/eleicoes/2020/...</td>\n",
       "    </tr>\n",
       "    <tr>\n",
       "      <th>43</th>\n",
       "      <td>ÁUREA CAROLINA</td>\n",
       "      <td>PSOL</td>\n",
       "      <td>MG</td>\n",
       "      <td>BELO HORIZONTE</td>\n",
       "      <td>https://politica.estadao.com.br/eleicoes/2020/...</td>\n",
       "    </tr>\n",
       "  </tbody>\n",
       "</table>\n",
       "</div>"
      ],
      "text/plain": [
       "               nome_candidato        partido estado          cidade  \\\n",
       "0            ANDREA MATARAZZO            PSD     SP       SÃO PAULO   \n",
       "1              ANTÔNIO CARLOS            PCO     SP       SÃO PAULO   \n",
       "2   ARTHUR DO VAL MAMÃE FALEI       PATRIOTA     SP       SÃO PAULO   \n",
       "3                 BRUNO COVAS           PSDB     SP       SÃO PAULO   \n",
       "4            CELSO RUSSOMANNO   REPUBLICANOS     SP       SÃO PAULO   \n",
       "5            GUILHERME BOULOS           PSOL     SP       SÃO PAULO   \n",
       "6                JILMAR TATTO             PT     SP       SÃO PAULO   \n",
       "7            JOICE HASSELMANN            PSL     SP       SÃO PAULO   \n",
       "8                LEVY FIDELIX           PRTB     SP       SÃO PAULO   \n",
       "9                MARINA HELOU           REDE     SP       SÃO PAULO   \n",
       "10              MÁRCIO FRANÇA            PSB     SP       SÃO PAULO   \n",
       "11              ORLANDO SILVA        PC do B     SP       SÃO PAULO   \n",
       "12                     SABARÁ           NOVO     SP       SÃO PAULO   \n",
       "13                       VERA           PSTU     SP       SÃO PAULO   \n",
       "14          BANDEIRA DE MELLO           REDE     RJ  RIO DE JANEIRO   \n",
       "15          BENEDITA DA SILVA             PT     RJ  RIO DE JANEIRO   \n",
       "16         CLARISSA GAROTINHO           PROS     RJ  RIO DE JANEIRO   \n",
       "17                   CRIVELLA   REPUBLICANOS     RJ  RIO DE JANEIRO   \n",
       "18                CYRO GARCIA           PSTU     RJ  RIO DE JANEIRO   \n",
       "19      DELEGADA MARTHA ROCHA            PDT     RJ  RIO DE JANEIRO   \n",
       "20               EDUARDO PAES            DEM     RJ  RIO DE JANEIRO   \n",
       "21                   FRED LUZ           NOVO     RJ  RIO DE JANEIRO   \n",
       "22             GLÓRIA HELOIZA            PSC     RJ  RIO DE JANEIRO   \n",
       "23          HENRIQUE SIMONARD            PCO     RJ  RIO DE JANEIRO   \n",
       "24                  LUIZ LIMA            PSL     RJ  RIO DE JANEIRO   \n",
       "25              PAULO MESSINA            MDB     RJ  RIO DE JANEIRO   \n",
       "26               RENATA SOUZA           PSOL     RJ  RIO DE JANEIRO   \n",
       "27                SUÊD HAIDAR            PMB     RJ  RIO DE JANEIRO   \n",
       "28               BRUNO ENGLER           PRTB     MG  BELO HORIZONTE   \n",
       "29               BRUNO ENGLER           PRTB     MG  BELO HORIZONTE   \n",
       "30                CABO XAVIER            PMB     MG  BELO HORIZONTE   \n",
       "31             FABIANO CAZECA           PROS     MG  BELO HORIZONTE   \n",
       "32          JOÃO VITOR XAVIER      CIDADANIA     MG  BELO HORIZONTE   \n",
       "33                      KALIL            PSD     MG  BELO HORIZONTE   \n",
       "34          LAFAYETTE ANDRADA   REPUBLICANOS     MG  BELO HORIZONTE   \n",
       "35              LUISA BARRETO           PSDB     MG  BELO HORIZONTE   \n",
       "36      MARCELO SOUZA E SILVA       PATRIOTA     MG  BELO HORIZONTE   \n",
       "37          MARILIA DOMINGUES            PCO     MG  BELO HORIZONTE   \n",
       "38           NILMÁRIO MIRANDA             PT     MG  BELO HORIZONTE   \n",
       "39  PROFESSOR WENDEL MESQUITA  SOLIDARIEDADE     MG  BELO HORIZONTE   \n",
       "40              RODRIGO PAIVA           NOVO     MG  BELO HORIZONTE   \n",
       "41             WADSON RIBEIRO        PC do B     MG  BELO HORIZONTE   \n",
       "42            WANDERSON ROCHA           PSTU     MG  BELO HORIZONTE   \n",
       "43             ÁUREA CAROLINA           PSOL     MG  BELO HORIZONTE   \n",
       "\n",
       "                                                 link  \n",
       "0   https://politica.estadao.com.br/eleicoes/2020/...  \n",
       "1   https://politica.estadao.com.br/eleicoes/2020/...  \n",
       "2   https://politica.estadao.com.br/eleicoes/2020/...  \n",
       "3   https://politica.estadao.com.br/eleicoes/2020/...  \n",
       "4   https://politica.estadao.com.br/eleicoes/2020/...  \n",
       "5   https://politica.estadao.com.br/eleicoes/2020/...  \n",
       "6   https://politica.estadao.com.br/eleicoes/2020/...  \n",
       "7   https://politica.estadao.com.br/eleicoes/2020/...  \n",
       "8   https://politica.estadao.com.br/eleicoes/2020/...  \n",
       "9   https://politica.estadao.com.br/eleicoes/2020/...  \n",
       "10  https://politica.estadao.com.br/eleicoes/2020/...  \n",
       "11  https://politica.estadao.com.br/eleicoes/2020/...  \n",
       "12  https://politica.estadao.com.br/eleicoes/2020/...  \n",
       "13  https://politica.estadao.com.br/eleicoes/2020/...  \n",
       "14  https://politica.estadao.com.br/eleicoes/2020/...  \n",
       "15  https://politica.estadao.com.br/eleicoes/2020/...  \n",
       "16  https://politica.estadao.com.br/eleicoes/2020/...  \n",
       "17  https://politica.estadao.com.br/eleicoes/2020/...  \n",
       "18  https://politica.estadao.com.br/eleicoes/2020/...  \n",
       "19  https://politica.estadao.com.br/eleicoes/2020/...  \n",
       "20  https://politica.estadao.com.br/eleicoes/2020/...  \n",
       "21  https://politica.estadao.com.br/eleicoes/2020/...  \n",
       "22  https://politica.estadao.com.br/eleicoes/2020/...  \n",
       "23  https://politica.estadao.com.br/eleicoes/2020/...  \n",
       "24  https://politica.estadao.com.br/eleicoes/2020/...  \n",
       "25  https://politica.estadao.com.br/eleicoes/2020/...  \n",
       "26  https://politica.estadao.com.br/eleicoes/2020/...  \n",
       "27  https://politica.estadao.com.br/eleicoes/2020/...  \n",
       "28  https://politica.estadao.com.br/eleicoes/2020/...  \n",
       "29  https://politica.estadao.com.br/eleicoes/2020/...  \n",
       "30  https://politica.estadao.com.br/eleicoes/2020/...  \n",
       "31  https://politica.estadao.com.br/eleicoes/2020/...  \n",
       "32  https://politica.estadao.com.br/eleicoes/2020/...  \n",
       "33  https://politica.estadao.com.br/eleicoes/2020/...  \n",
       "34  https://politica.estadao.com.br/eleicoes/2020/...  \n",
       "35  https://politica.estadao.com.br/eleicoes/2020/...  \n",
       "36  https://politica.estadao.com.br/eleicoes/2020/...  \n",
       "37  https://politica.estadao.com.br/eleicoes/2020/...  \n",
       "38  https://politica.estadao.com.br/eleicoes/2020/...  \n",
       "39  https://politica.estadao.com.br/eleicoes/2020/...  \n",
       "40  https://politica.estadao.com.br/eleicoes/2020/...  \n",
       "41  https://politica.estadao.com.br/eleicoes/2020/...  \n",
       "42  https://politica.estadao.com.br/eleicoes/2020/...  \n",
       "43  https://politica.estadao.com.br/eleicoes/2020/...  "
      ]
     },
     "execution_count": 46,
     "metadata": {},
     "output_type": "execute_result"
    }
   ],
   "source": [
    "df_candidatos"
   ]
  },
  {
   "cell_type": "code",
   "execution_count": null,
   "metadata": {},
   "outputs": [],
   "source": []
  }
 ],
 "metadata": {
  "kernelspec": {
   "display_name": "Python 3.10.8 64-bit",
   "language": "python",
   "name": "python3"
  },
  "language_info": {
   "codemirror_mode": {
    "name": "ipython",
    "version": 3
   },
   "file_extension": ".py",
   "mimetype": "text/x-python",
   "name": "python",
   "nbconvert_exporter": "python",
   "pygments_lexer": "ipython3",
   "version": "3.10.8"
  },
  "orig_nbformat": 4,
  "vscode": {
   "interpreter": {
    "hash": "bdc61a573b7c04ac73c497c310aac6f118c4a6b5e00596aa34320b353e7059d7"
   }
  }
 },
 "nbformat": 4,
 "nbformat_minor": 2
}
