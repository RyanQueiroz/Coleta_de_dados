{
 "cells": [
  {
   "cell_type": "code",
   "execution_count": 212,
   "metadata": {},
   "outputs": [],
   "source": [
    "import requests\n",
    "from bs4 import BeautifulSoup\n",
    "import re\n",
    "import pandas as pd\n",
    "import re\n",
    "from price_parser import Price\n",
    "from datetime import datetime"
   ]
  },
  {
   "cell_type": "code",
   "execution_count": 2,
   "metadata": {},
   "outputs": [],
   "source": [
    "r = requests.get('https://www.zoom.com.br/celular/smartphone-apple-iphone-13-pro-max-128gb-ios-camera-tripla?og=18000&gclid=Cj0KCQiAmaibBhCAARIsAKUlaKQ6wt1RAra9XM2OXU8H-XXCCX1PYbF8fStfF61YiPG1lHvyV7GCPoMaAgjiEALw_wcB')"
   ]
  },
  {
   "cell_type": "code",
   "execution_count": 12,
   "metadata": {},
   "outputs": [],
   "source": [
    "soup = BeautifulSoup(r.text, 'html.parser')"
   ]
  },
  {
   "cell_type": "code",
   "execution_count": 210,
   "metadata": {},
   "outputs": [],
   "source": [
    "divempresa = soup.find_all(\"div\", attrs={\"class\": \"OfferCard_OfferCardFooter__9dsDN\"})\n",
    "divpreco = soup.find_all(\"span\", attrs={\"class\": \"Text_Text__bOTfK Text_MobileHeadingS__XS_Au OfferPrice_InCash__MePNu\"})\n",
    "divnome = soup.find(\"h1\", attrs={\"class\": \"Text_Text__bOTfK Text_MobileTitleM__a0Do9 Text_MobileTitleLAtLarge__SB4ll\"}).text\n"
   ]
  },
  {
   "cell_type": "code",
   "execution_count": 240,
   "metadata": {},
   "outputs": [],
   "source": [
    "tempo = datetime.now().date()\n",
    "preco = []\n",
    "precors = []\n",
    "vendedoras = []\n",
    "nomeproduto = []\n",
    "data = []\n",
    "regex_dados = re.compile('(<span class=\"Text_Text__bOTfK Text_MobileHeadingS__XS_Au OfferPrice_InCash__MePNu\">)(.*?)(<span>à vista</span></span>)')\n",
    "aa = regex_dados.findall(str(divpreco))\n",
    "for i in aa:\n",
    "    precors.append(i[1])\n",
    "    preco.append(Price.fromstring(i[1]).amount_float)\n",
    "    nomeproduto.append(divnome)\n",
    "    data.append(str(tempo))\n",
    "for i in divempresa:\n",
    "    vendedoras.append(i.img['alt'])\n",
    "\n",
    "\n"
   ]
  },
  {
   "cell_type": "code",
   "execution_count": 241,
   "metadata": {},
   "outputs": [
    {
     "data": {
      "text/html": [
       "<div>\n",
       "<style scoped>\n",
       "    .dataframe tbody tr th:only-of-type {\n",
       "        vertical-align: middle;\n",
       "    }\n",
       "\n",
       "    .dataframe tbody tr th {\n",
       "        vertical-align: top;\n",
       "    }\n",
       "\n",
       "    .dataframe thead th {\n",
       "        text-align: right;\n",
       "    }\n",
       "</style>\n",
       "<table border=\"1\" class=\"dataframe\">\n",
       "  <thead>\n",
       "    <tr style=\"text-align: right;\">\n",
       "      <th></th>\n",
       "      <th>produto</th>\n",
       "      <th>Vendedor</th>\n",
       "      <th>PrecoR$</th>\n",
       "      <th>Preço</th>\n",
       "      <th>Data</th>\n",
       "    </tr>\n",
       "  </thead>\n",
       "  <tbody>\n",
       "    <tr>\n",
       "      <th>0</th>\n",
       "      <td>Smartphone Apple iPhone 13 Pro Max 128GB Câmer...</td>\n",
       "      <td>Amazon</td>\n",
       "      <td>R$ 7.899,00</td>\n",
       "      <td>7899.00</td>\n",
       "      <td>2022-11-09</td>\n",
       "    </tr>\n",
       "    <tr>\n",
       "      <th>1</th>\n",
       "      <td>Smartphone Apple iPhone 13 Pro Max 128GB Câmer...</td>\n",
       "      <td>Casas Bahia</td>\n",
       "      <td>R$ 9.604,52</td>\n",
       "      <td>9604.52</td>\n",
       "      <td>2022-11-09</td>\n",
       "    </tr>\n",
       "    <tr>\n",
       "      <th>2</th>\n",
       "      <td>Smartphone Apple iPhone 13 Pro Max 128GB Câmer...</td>\n",
       "      <td>Extra</td>\n",
       "      <td>R$ 7.899,00</td>\n",
       "      <td>7899.00</td>\n",
       "      <td>2022-11-09</td>\n",
       "    </tr>\n",
       "    <tr>\n",
       "      <th>3</th>\n",
       "      <td>Smartphone Apple iPhone 13 Pro Max 128GB Câmer...</td>\n",
       "      <td>KaBuM!</td>\n",
       "      <td>R$ 10.499,00</td>\n",
       "      <td>10499.00</td>\n",
       "      <td>2022-11-09</td>\n",
       "    </tr>\n",
       "    <tr>\n",
       "      <th>4</th>\n",
       "      <td>Smartphone Apple iPhone 13 Pro Max 128GB Câmer...</td>\n",
       "      <td>Carrefour</td>\n",
       "      <td>R$ 8.299,90</td>\n",
       "      <td>8299.90</td>\n",
       "      <td>2022-11-09</td>\n",
       "    </tr>\n",
       "    <tr>\n",
       "      <th>5</th>\n",
       "      <td>Smartphone Apple iPhone 13 Pro Max 128GB Câmer...</td>\n",
       "      <td>Ponto</td>\n",
       "      <td>R$ 9.604,52</td>\n",
       "      <td>9604.52</td>\n",
       "      <td>2022-11-09</td>\n",
       "    </tr>\n",
       "    <tr>\n",
       "      <th>6</th>\n",
       "      <td>Smartphone Apple iPhone 13 Pro Max 128GB Câmer...</td>\n",
       "      <td>Mercado Livre</td>\n",
       "      <td>R$ 9.150,00</td>\n",
       "      <td>9150.00</td>\n",
       "      <td>2022-11-09</td>\n",
       "    </tr>\n",
       "    <tr>\n",
       "      <th>7</th>\n",
       "      <td>Smartphone Apple iPhone 13 Pro Max 128GB Câmer...</td>\n",
       "      <td>Ponto</td>\n",
       "      <td>R$ 7.899,00</td>\n",
       "      <td>7899.00</td>\n",
       "      <td>2022-11-09</td>\n",
       "    </tr>\n",
       "    <tr>\n",
       "      <th>8</th>\n",
       "      <td>Smartphone Apple iPhone 13 Pro Max 128GB Câmer...</td>\n",
       "      <td>Americanas</td>\n",
       "      <td>R$ 8.351,76</td>\n",
       "      <td>8351.76</td>\n",
       "      <td>2022-11-09</td>\n",
       "    </tr>\n",
       "    <tr>\n",
       "      <th>9</th>\n",
       "      <td>Smartphone Apple iPhone 13 Pro Max 128GB Câmer...</td>\n",
       "      <td>Extra</td>\n",
       "      <td>R$ 9.604,52</td>\n",
       "      <td>9604.52</td>\n",
       "      <td>2022-11-09</td>\n",
       "    </tr>\n",
       "  </tbody>\n",
       "</table>\n",
       "</div>"
      ],
      "text/plain": [
       "                                             produto       Vendedor  \\\n",
       "0  Smartphone Apple iPhone 13 Pro Max 128GB Câmer...         Amazon   \n",
       "1  Smartphone Apple iPhone 13 Pro Max 128GB Câmer...    Casas Bahia   \n",
       "2  Smartphone Apple iPhone 13 Pro Max 128GB Câmer...          Extra   \n",
       "3  Smartphone Apple iPhone 13 Pro Max 128GB Câmer...         KaBuM!   \n",
       "4  Smartphone Apple iPhone 13 Pro Max 128GB Câmer...      Carrefour   \n",
       "5  Smartphone Apple iPhone 13 Pro Max 128GB Câmer...          Ponto   \n",
       "6  Smartphone Apple iPhone 13 Pro Max 128GB Câmer...  Mercado Livre   \n",
       "7  Smartphone Apple iPhone 13 Pro Max 128GB Câmer...          Ponto   \n",
       "8  Smartphone Apple iPhone 13 Pro Max 128GB Câmer...     Americanas   \n",
       "9  Smartphone Apple iPhone 13 Pro Max 128GB Câmer...          Extra   \n",
       "\n",
       "        PrecoR$     Preço        Data  \n",
       "0   R$ 7.899,00   7899.00  2022-11-09  \n",
       "1   R$ 9.604,52   9604.52  2022-11-09  \n",
       "2   R$ 7.899,00   7899.00  2022-11-09  \n",
       "3  R$ 10.499,00  10499.00  2022-11-09  \n",
       "4   R$ 8.299,90   8299.90  2022-11-09  \n",
       "5   R$ 9.604,52   9604.52  2022-11-09  \n",
       "6   R$ 9.150,00   9150.00  2022-11-09  \n",
       "7   R$ 7.899,00   7899.00  2022-11-09  \n",
       "8   R$ 8.351,76   8351.76  2022-11-09  \n",
       "9   R$ 9.604,52   9604.52  2022-11-09  "
      ]
     },
     "execution_count": 241,
     "metadata": {},
     "output_type": "execute_result"
    }
   ],
   "source": [
    "dados = []\n",
    "for a, b, c, d, e in zip(nomeproduto, vendedoras, precors, preco, data):\n",
    "    dados.append([a,b,c,d,e])\n",
    "df = pd.DataFrame(dados, columns=['produto', 'Vendedor', 'PrecoR$', 'Preço', 'Data'])\n",
    "df"
   ]
  },
  {
   "cell_type": "code",
   "execution_count": 243,
   "metadata": {},
   "outputs": [],
   "source": [
    "df.to_csv(f\"Precos_Iphones-{tempo}.csv\")"
   ]
  }
 ],
 "metadata": {
  "kernelspec": {
   "display_name": "Python 3.10.8 64-bit",
   "language": "python",
   "name": "python3"
  },
  "language_info": {
   "codemirror_mode": {
    "name": "ipython",
    "version": 3
   },
   "file_extension": ".py",
   "mimetype": "text/x-python",
   "name": "python",
   "nbconvert_exporter": "python",
   "pygments_lexer": "ipython3",
   "version": "3.10.8"
  },
  "orig_nbformat": 4,
  "vscode": {
   "interpreter": {
    "hash": "bdc61a573b7c04ac73c497c310aac6f118c4a6b5e00596aa34320b353e7059d7"
   }
  }
 },
 "nbformat": 4,
 "nbformat_minor": 2
}
